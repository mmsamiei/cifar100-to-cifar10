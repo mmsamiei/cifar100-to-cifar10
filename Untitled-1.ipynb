{
 "cells": [
  {
   "cell_type": "code",
   "execution_count": 1,
   "metadata": {},
   "outputs": [],
   "source": [
    "from computations import supervised_loss_computation\n",
    "import torch\n",
    "from models import classifier\n",
    "from datasets import cifar10_dataset\n",
    "from trainers import supervised_trainer\n",
    "from optimizers import optimizers\n",
    "from utils import utils"
   ]
  },
  {
   "cell_type": "code",
   "execution_count": 5,
   "metadata": {},
   "outputs": [
    {
     "name": "stdout",
     "output_type": "stream",
     "text": [
      "Files already downloaded and verified\n",
      "Hooray! GPU is available!\n"
     ]
    }
   ],
   "source": [
    "dataset = cifar10_dataset.Cifar10Dataset(\"train\")\n",
    "train_dataloader = torch.utils.data.DataLoader(dataset, batch_size=16, shuffle=True, num_workers=2)\n",
    "model = classifier.Classifier(\"resnet18\", 10)\n",
    "optimizer = optimizers.Optimizer(model.parameters(), lr=0.00001)\n",
    "device = utils.get_gpu_if_available()\n",
    "trainer = supervised_trainer.SupervisedTrainer(train_dataloader, train_dataloader, model, optimizer, device)"
   ]
  },
  {
   "cell_type": "code",
   "execution_count": 6,
   "metadata": {},
   "outputs": [
    {
     "data": {
      "application/vnd.jupyter.widget-view+json": {
       "model_id": "24d62ae1f71f44caa5912c4fa2545251",
       "version_major": 2,
       "version_minor": 0
      },
      "text/plain": [
       "  0%|          | 0/3125 [00:00<?, ?it/s]"
      ]
     },
     "metadata": {},
     "output_type": "display_data"
    },
    {
     "data": {
      "text/plain": [
       "{'epoch_loss_mean': 1.645854404411316,\n",
       " 'epoch_loss_max': 2.562638521194458,\n",
       " 'epoch_loss_min': 0.9191443920135498}"
      ]
     },
     "execution_count": 6,
     "metadata": {},
     "output_type": "execute_result"
    }
   ],
   "source": [
    "trainer.a_epoch()"
   ]
  }
 ],
 "metadata": {
  "interpreter": {
   "hash": "0cf88db6aa5c3293deea26e3f364876775824d811f758975e3ef6305ad749dec"
  },
  "kernelspec": {
   "display_name": "Python 3.8.10 64-bit ('venv': venv)",
   "language": "python",
   "name": "python3"
  },
  "language_info": {
   "codemirror_mode": {
    "name": "ipython",
    "version": 3
   },
   "file_extension": ".py",
   "mimetype": "text/x-python",
   "name": "python",
   "nbconvert_exporter": "python",
   "pygments_lexer": "ipython3",
   "version": "3.8.10"
  },
  "orig_nbformat": 4
 },
 "nbformat": 4,
 "nbformat_minor": 2
}
